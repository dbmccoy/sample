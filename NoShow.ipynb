{
 "cells": [
  {
   "cell_type": "code",
   "execution_count": 2,
   "metadata": {
    "collapsed": true
   },
   "outputs": [],
   "source": [
    "import pandas as pd\n",
    "import numpy as np\n",
    "import matplotlib.pyplot as plt\n",
    "import seaborn as sns\n",
    "%matplotlib inline"
   ]
  },
  {
   "cell_type": "code",
   "execution_count": 5,
   "metadata": {
    "collapsed": true,
    "scrolled": false
   },
   "outputs": [],
   "source": [
    "def transform_features(df):\n",
    "    df.drop(['SERV_AREA_ID','ApptDate','har','DEPARTMENT_NAME',\n",
    "            'DEPARTMENT_ID','Smoker','Hispanic','Language','pat_id','DepSpecialty'],axis=1,inplace=True)\n",
    "    df = df[df.Status != 'Scheduled']\n",
    "    df = df[df.LeadDays > 0]\n",
    "    df = simplify_lead(df)\n",
    "    df = simplify_bmi(df)\n",
    "    df = simplify_ages(df)\n",
    "    df.Religion = df.Religion.fillna('Unknown')\n",
    "    df.Race = df.Race.fillna('Patient Declined')\n",
    "    df.Status = df.Status.map({'Completed':0,'No Show':1})\n",
    "    df.rename(columns={'Status':'NoShow'},inplace=True)\n",
    "    return df\n",
    "\n",
    "def simplify_lead(df):\n",
    "    \n",
    "    bins = (0,9,22,52,10000)\n",
    "    group_names = ['1_Quartile','2_Quartile','3_Quartile','4_Quartile']\n",
    "    categories = pd.cut(df.LeadDays,bins,labels=group_names)\n",
    "    df.LeadDays = categories\n",
    "    return df\n",
    "\n",
    "def simplify_bmi(df):\n",
    "    df.BMI = df.BMI.fillna(-1)\n",
    "    bins = (-10,0,23,28,35,10000)\n",
    "    group_names = ['Unknown','1_Quartile','2_Quartile','3_Quartile','4_Quartile']\n",
    "    categories = pd.cut(df.BMI,bins,labels=group_names)\n",
    "    df.BMI = categories\n",
    "    return df\n",
    "\n",
    "def simplify_ages(df):\n",
    "    df.Age = df.Age.fillna(-0.5)\n",
    "    bins = (-1, 0, 5, 12, 18, 25, 35, 60, 120)\n",
    "    group_names = ['Unknown', 'Baby', 'Child', 'Teenager', 'Student', 'Young Adult', 'Adult', 'Senior']\n",
    "    categories = pd.cut(df.Age, bins, labels=group_names)\n",
    "    df.Age = categories\n",
    "    return df\n",
    "\n",
    "df = pd.read_csv('FMtest.csv')\n",
    "df = transform_features(df)\n",
    "df = df[df['BMI'].notnull()]"
   ]
  },
  {
   "cell_type": "code",
   "execution_count": 42,
   "metadata": {
    "collapsed": true
   },
   "outputs": [],
   "source": [
    "def split_set(df):\n",
    "    msk = np.random.rand(len(df)) < 0.8\n",
    "    train = df[msk]\n",
    "    test = df[~msk]\n",
    "    return train, test\n",
    "    \n",
    "#train, test = split_set(df)"
   ]
  },
  {
   "cell_type": "code",
   "execution_count": 19,
   "metadata": {
    "collapsed": true,
    "scrolled": true
   },
   "outputs": [],
   "source": [
    "from sklearn import preprocessing\n",
    "def encode_features(_df):#df_train, df_test):\n",
    "    features = ['DayOfWeek','LeadDays','Age','Race',\n",
    "                'Religion','BMI']\n",
    "    #df_combined = pd.concat([df_train[features], df_test[features]])\n",
    "    \n",
    "    for feature in features:\n",
    "        le = preprocessing.LabelEncoder()\n",
    "        #le = le.fit(df_combined[feature])\n",
    "        le = le.fit(_df[feature])\n",
    "        _df[feature] = le.transform(_df[feature])\n",
    "        #df_test[feature] = le.transform(df_test[feature])\n",
    "    return _df\n",
    "\n",
    "#train, test = encode_features(train, test)\n",
    "df = encode_features(df)"
   ]
  },
  {
   "cell_type": "code",
   "execution_count": 22,
   "metadata": {
    "collapsed": true,
    "scrolled": false
   },
   "outputs": [],
   "source": [
    "#sns.barplot(x='BMI',y='NoShow',data=df)"
   ]
  },
  {
   "cell_type": "code",
   "execution_count": 12,
   "metadata": {},
   "outputs": [
    {
     "data": {
      "text/plain": [
       "RandomForestClassifier(bootstrap=True, class_weight=None, criterion='entropy',\n",
       "            max_depth=10, max_features='log2', max_leaf_nodes=None,\n",
       "            min_impurity_split=1e-07, min_samples_leaf=1,\n",
       "            min_samples_split=3, min_weight_fraction_leaf=0.0,\n",
       "            n_estimators=6, n_jobs=1, oob_score=False, random_state=None,\n",
       "            verbose=0, warm_start=False)"
      ]
     },
     "execution_count": 12,
     "metadata": {},
     "output_type": "execute_result"
    }
   ],
   "source": [
    "from sklearn.model_selection import train_test_split\n",
    "\n",
    "x_all = df.drop(['NoShow','csn'],axis=1)\n",
    "y_all = df['NoShow']\n",
    "\n",
    "num_test = 0.20\n",
    "\n",
    "x_train, x_test, y_train, y_test = train_test_split(x_all, y_all,\n",
    "test_size = num_test, random_state = 23)\n",
    "\n",
    "from sklearn.ensemble import RandomForestClassifier\n",
    "from sklearn.metrics import make_scorer, accuracy_score\n",
    "from sklearn.model_selection import GridSearchCV\n",
    "\n",
    "clf = RandomForestClassifier()\n",
    "\n",
    "parameters = {'n_estimators': [4, 6, 9], \n",
    "              'max_features': ['log2', 'sqrt','auto'], \n",
    "              'criterion': ['entropy', 'gini'],\n",
    "              'max_depth': [2, 3, 5, 10], \n",
    "              'min_samples_split': [2, 3, 5],\n",
    "              'min_samples_leaf': [1,5,8]\n",
    "             }\n",
    "\n",
    "acc_scorer = make_scorer(accuracy_score)\n",
    "\n",
    "grid_obj = GridSearchCV(clf, parameters, scoring = acc_scorer)\n",
    "grid_obj = grid_obj.fit(x_train, y_train)\n",
    "\n",
    "clf = grid_obj.best_estimator_\n",
    "\n",
    "clf.fit(x_train, y_train)"
   ]
  },
  {
   "cell_type": "code",
   "execution_count": 14,
   "metadata": {
    "collapsed": true
   },
   "outputs": [],
   "source": [
    "prob = clf.predict_proba(x_test)"
   ]
  },
  {
   "cell_type": "code",
   "execution_count": 13,
   "metadata": {},
   "outputs": [
    {
     "name": "stdout",
     "output_type": "stream",
     "text": [
      "0.798365122616\n"
     ]
    }
   ],
   "source": [
    "predictions = clf.predict(x_test)\n",
    "print(accuracy_score(y_test,predictions))"
   ]
  },
  {
   "cell_type": "code",
   "execution_count": 21,
   "metadata": {
    "collapsed": true,
    "scrolled": true
   },
   "outputs": [],
   "source": [
    "from sklearn.cross_validation import KFold\n",
    "\n",
    "def run_kfold(clf):\n",
    "    kf = KFold(891, n_folds=10)\n",
    "    outcomes = []\n",
    "    fold = 0\n",
    "    for train_index, test_index in kf:\n",
    "        fold += 1\n",
    "        x_train, x_test = x_all.values[train_index], x_all.values[test_index]\n",
    "        y_train, y_test = y_all.values[train_index], y_all.values[test_index]\n",
    "        clf.fit(x_train, y_train)\n",
    "        predictions = clf.predict(x_test)\n",
    "        accuracy = accuracy_score(y_test, predictions)\n",
    "        outcomes.append(accuracy)\n",
    "        print(\"Fold {0} accuracy: {1}\".format(fold, accuracy))\n",
    "    mean_outcome = np.mean(outcomes)\n",
    "    print(\"Mean Accuracy: {0}\".format(mean_outcome))\n",
    "    \n",
    "#run_kfold(clf)"
   ]
  },
  {
   "cell_type": "code",
   "execution_count": 23,
   "metadata": {
    "collapsed": true
   },
   "outputs": [],
   "source": [
    "#y_test.head()"
   ]
  },
  {
   "cell_type": "code",
   "execution_count": 16,
   "metadata": {},
   "outputs": [
    {
     "data": {
      "text/plain": [
       "array([0, 0, 1, ..., 0, 0, 0], dtype=int64)"
      ]
     },
     "execution_count": 16,
     "metadata": {},
     "output_type": "execute_result"
    }
   ],
   "source": [
    "predictions"
   ]
  },
  {
   "cell_type": "code",
   "execution_count": 17,
   "metadata": {
    "collapsed": true
   },
   "outputs": [],
   "source": [
    "prob2 = np.array([i[1] for i in prob])"
   ]
  },
  {
   "cell_type": "code",
   "execution_count": 20,
   "metadata": {
    "collapsed": true,
    "scrolled": true
   },
   "outputs": [],
   "source": [
    "#ids = test['csn']\n",
    "ids = y_test\n",
    "\n",
    "predictions = clf.predict(x_test)\n",
    "\n",
    "output = pd.DataFrame({'Label' : ids, 'Prediction': predictions, 'Probability': prob2 }).join(df['csn'])\n",
    "\n",
    "output.to_csv('predictions.csv', index = False)\n",
    "df.to_csv('df.csv', index=False)\n",
    "#output"
   ]
  }
 ],
 "metadata": {
  "kernelspec": {
   "display_name": "Python 3",
   "language": "python",
   "name": "python3"
  },
  "language_info": {
   "codemirror_mode": {
    "name": "ipython",
    "version": 3
   },
   "file_extension": ".py",
   "mimetype": "text/x-python",
   "name": "python",
   "nbconvert_exporter": "python",
   "pygments_lexer": "ipython3",
   "version": "3.6.1"
  }
 },
 "nbformat": 4,
 "nbformat_minor": 2
}
