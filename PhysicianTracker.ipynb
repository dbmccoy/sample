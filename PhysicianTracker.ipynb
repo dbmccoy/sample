{
 "cells": [
  {
   "cell_type": "code",
   "execution_count": 99,
   "metadata": {
    "collapsed": false,
    "slideshow": {
     "slide_type": "skip"
    }
   },
   "outputs": [
    {
     "data": {
      "text/html": [
       "<script>jQuery(function() {if (jQuery(\"body.notebook_app\").length == 0) { jQuery(\".input_area\").toggle(); jQuery(\".prompt\").toggle();}});</script>"
      ]
     },
     "metadata": {},
     "output_type": "display_data"
    }
   ],
   "source": [
    "import pandas as pd\n",
    "import numpy as np\n",
    "import os\n",
    "import IPython.core.display as di\n",
    "import sqlalchemy as sql\n",
    "import seaborn as sns\n",
    "import matplotlib.pyplot as plt\n",
    "import nbconvert.utils.pandoc\n",
    "pd.options.display.max_colwidth = 40\n",
    "pd.options.display.float_format = '{:,.0f}'.format\n",
    "from sqlalchemy import text\n",
    "from IPython.display import display, HTML\n",
    "%matplotlib inline\n",
    "# This line will hide code by default when the notebook is exported as HTML\n",
    "di.display_html('<script>jQuery(function() {if (jQuery(\"body.notebook_app\").length == 0) { jQuery(\".input_area\").toggle(); jQuery(\".prompt\").toggle();}});</script>', raw=True)\n"
   ]
  },
  {
   "cell_type": "code",
   "execution_count": 100,
   "metadata": {
    "collapsed": false,
    "slideshow": {
     "slide_type": "skip"
    }
   },
   "outputs": [],
   "source": [
    "StartDate = '1/1/2016'\n",
    "EndDate = '2/1/2017'\n",
    "Physician = '16379'\n",
    "\n",
    "os.chdir('X:\\DBM\\!Data')\n",
    "CC = pd.read_excel(\"CC Mapping Master.xlsx\")\n",
    "os.chdir('X:\\DBM\\!Data\\PhysicianTracker')\n",
    "\n",
    "qy = open('PrimaryDX.sql').read()\n",
    "qy = qy.replace('start_var',StartDate)\n",
    "qy = qy.replace('end_var',EndDate)\n",
    "\n",
    "op = open('phys_tracker_CompApp.sql').read()\n",
    "op = op.replace('start_var',StartDate)\n",
    "op = op.replace('end_var',EndDate)\n",
    "\n",
    "ip = open('DRG.sql').read()\n",
    "ip = ip.replace('start_var',StartDate)\n",
    "ip = ip.replace('end_var',EndDate)\n",
    "\n",
    "log = open('OR_LOG.sql').read()\n",
    "log = log.replace('start_var',StartDate)\n",
    "log = log.replace('end_var',EndDate)\n",
    "\n",
    "month_names = []\n",
    "month_ints = []\n",
    "\n",
    "#reorder this for trailing twelve months\n",
    "CY_order = ['Feb','Mar','Apr','May','Jun','Jul','Aug','Sep','Oct','Nov','Dec','Jan','All']\n",
    "CY_int = {'Jan':1,'Feb':2,'Mar':3,'Apr':4,'May':5,'Jun':6,'Jul':7,'Aug':8,'Sep':9,'Oct':10,'Nov':11,'Dec':12}\n"
   ]
  },
  {
   "cell_type": "code",
   "execution_count": 101,
   "metadata": {
    "collapsed": false,
    "slideshow": {
     "slide_type": "skip"
    }
   },
   "outputs": [],
   "source": [
    "def RunQuery(q,merge=True):\n",
    "\n",
    "    #query = open(q).read()\n",
    "\n",
    "    DB = {\n",
    "        'drivername': 'mssql+pyodbc',\n",
    "        'servername': 'EPIC-P-CLARITY',\n",
    "        'port': '5432',\n",
    "        'database': 'CLARITY',\n",
    "        'driver': 'SQL Server Native Client 11.0',\n",
    "        'trusted_connection': 'yes',  \n",
    "        'legacy_schema_aliasing': False\n",
    "    }\n",
    "    # Create the connection\n",
    "    engine = sql.create_engine(DB['drivername'] + '://' + DB['servername'] +\n",
    "                           '/' + DB['database'] + '?' + 'driver=' + \n",
    "                           DB['driver'] + ';' + 'trusted_connection=' + \n",
    "                           DB['trusted_connection'], \n",
    "                           legacy_schema_aliasing=DB['legacy_schema_aliasing'])\n",
    "    # Required for querying tables\n",
    "    con = engine.connect()\n",
    "    metadata = sql.MetaData(con)\n",
    "    df = pd.read_sql(q,con = con)\n",
    "    df['Count']=1\n",
    "    if(merge):\n",
    "        df = df.merge(CC[['DEPARTMENT_NAME','Lawson Name']],left_on='department_name',right_on='DEPARTMENT_NAME',how='left')\n",
    "    return df"
   ]
  },
  {
   "cell_type": "code",
   "execution_count": 102,
   "metadata": {
    "collapsed": false,
    "slideshow": {
     "slide_type": "skip"
    }
   },
   "outputs": [],
   "source": [
    "def build_dash(df,id,_index,count = 1000,prov_type='attending_prov_id',_count='hsp_account_id',_func='count'):\n",
    "    df = df[df[prov_type]==str(id)]\n",
    "    df = pd.pivot_table(df\n",
    "             ,columns='month_abr'\n",
    "             ,index=[_index]\n",
    "             ,values=[_count]\n",
    "             ,aggfunc={_count:_func}\n",
    "             ,margins=True\n",
    "             ,fill_value=0\n",
    "         )\n",
    "    df = df[_count]\n",
    "    cols = df.columns.tolist()\n",
    "    order = []\n",
    "    int_order = []\n",
    "    for i in CY_order:\n",
    "        if i in cols:\n",
    "            order.append(i)\n",
    "            if i != 'All': int_order.append(CY_int[i])\n",
    "    #order.append('All')\n",
    "    global month_names\n",
    "    global month_ints\n",
    "    month_names = order\n",
    "    #month_names = month_names.remove(month_names[len(month_names)-1])\n",
    "    month_ints = int_order\n",
    "    df.sort_values(by='All',ascending=0)\n",
    "    df = df.sort_values(by='All',ascending=0)\n",
    "    df = df[order]\n",
    "    df = df.reset_index()\n",
    "    df = df[df[_index] != 'All']\n",
    "    Total = pd.DataFrame([ColSum(df,'Total')],columns=df.columns)\n",
    "    df = df.head(count)\n",
    "    Other = pd.DataFrame([ColSum(df,'Other')],columns=df.columns)\n",
    "    Other = Total.iloc[:,1:].subtract(Other.iloc[:,1:])\n",
    "    Other[_index] = 'Other'\n",
    "    Other = ColMove(Other,_index)\n",
    "    if(Other['All'][0]==0):\n",
    "        df = df.append(Total)\n",
    "    else:\n",
    "        df = df.append(Other).append(Total)   \n",
    "    df.columns.name = ''\n",
    "    return df"
   ]
  },
  {
   "cell_type": "code",
   "execution_count": 103,
   "metadata": {
    "collapsed": true,
    "slideshow": {
     "slide_type": "skip"
    }
   },
   "outputs": [],
   "source": [
    "def ColMove(_df,_name,move_to=0):\n",
    "    name = _df[_name]\n",
    "    _df.drop(labels=[_name],axis=1,inplace=True)\n",
    "    _df.insert(move_to,_name,name)\n",
    "    return _df"
   ]
  },
  {
   "cell_type": "code",
   "execution_count": 104,
   "metadata": {
    "collapsed": false,
    "slideshow": {
     "slide_type": "skip"
    }
   },
   "outputs": [],
   "source": [
    "def ColSum(_df,title):\n",
    "    row_total = []\n",
    "    \n",
    "    for i in range(0,len(_df.columns)):\n",
    "        if i == 0:\n",
    "            row_total.append(title)\n",
    "        else:\n",
    "            row_total.append(_df.iloc[:,i].sum())\n",
    "    \n",
    "    return row_total"
   ]
  },
  {
   "cell_type": "code",
   "execution_count": 105,
   "metadata": {
    "collapsed": false,
    "slideshow": {
     "slide_type": "skip"
    }
   },
   "outputs": [],
   "source": [
    "def line_plot(df,axis,detail=False):\n",
    "    if detail==False: df = df.tail(1)\n",
    "    df = df.iloc[:,0:len(df.columns)-1]  \n",
    "    plt.figure(figsize=(6,3))\n",
    "    p = sns.pointplot(data=df)\n",
    "    sns.set_style(\"white\")\n",
    "    sns.despine()\n",
    "    p.set_ylabel(axis)\n",
    "    return p"
   ]
  },
  {
   "cell_type": "code",
   "execution_count": 106,
   "metadata": {
    "collapsed": false,
    "slideshow": {
     "slide_type": "skip"
    }
   },
   "outputs": [],
   "source": [
    "dx = RunQuery(qy)\n",
    "op = RunQuery(op)\n",
    "ip = RunQuery(ip)\n",
    "log = RunQuery(log,False)"
   ]
  },
  {
   "cell_type": "markdown",
   "metadata": {},
   "source": [
    "@media print {\n",
    "    h3 {page-break-before: always;}\n",
    "}"
   ]
  },
  {
   "cell_type": "markdown",
   "metadata": {
    "slideshow": {
     "slide_type": "slide"
    }
   },
   "source": [
    "<h2>Physician Summary Sample Data</h2>\n",
    "<i>8/1/2016 - 1/31/2017</i>"
   ]
  },
  {
   "cell_type": "markdown",
   "metadata": {},
   "source": [
    "<h3>Inpatient Discharges by DRG</h3>\n",
    "<p style=\"page-break-after:always;\"></p>\n",
    "<div style=\"page-break-after: always;\"></div>\n",
    "<i>Attending physician, by discharge date, coded encounters only</i>\n"
   ]
  },
  {
   "cell_type": "code",
   "execution_count": 107,
   "metadata": {
    "collapsed": false,
    "slideshow": {
     "slide_type": "slide"
    }
   },
   "outputs": [
    {
     "data": {
      "text/html": [
       "<table border=\"1\" class=\"dataframe\">\n",
       "  <thead>\n",
       "    <tr style=\"text-align: right;\">\n",
       "      <th>drg</th>\n",
       "      <th>Aug</th>\n",
       "      <th>Sep</th>\n",
       "      <th>Oct</th>\n",
       "      <th>Nov</th>\n",
       "      <th>Dec</th>\n",
       "      <th>Jan</th>\n",
       "      <th>All</th>\n",
       "    </tr>\n",
       "  </thead>\n",
       "  <tbody>\n",
       "    <tr>\n",
       "      <td>13 TRACHEOSTOMY FOR FACE,MOUTH &amp; NEC...</td>\n",
       "      <td>1</td>\n",
       "      <td>0</td>\n",
       "      <td>0</td>\n",
       "      <td>1</td>\n",
       "      <td>0</td>\n",
       "      <td>1</td>\n",
       "      <td>3</td>\n",
       "    </tr>\n",
       "    <tr>\n",
       "      <td>11 TRACHEOSTOMY FOR FACE,MOUTH &amp; NEC...</td>\n",
       "      <td>0</td>\n",
       "      <td>1</td>\n",
       "      <td>1</td>\n",
       "      <td>0</td>\n",
       "      <td>0</td>\n",
       "      <td>0</td>\n",
       "      <td>2</td>\n",
       "    </tr>\n",
       "    <tr>\n",
       "      <td>134 OTHER EAR, NOSE, MOUTH &amp; THROAT ...</td>\n",
       "      <td>1</td>\n",
       "      <td>0</td>\n",
       "      <td>0</td>\n",
       "      <td>0</td>\n",
       "      <td>0</td>\n",
       "      <td>0</td>\n",
       "      <td>1</td>\n",
       "    </tr>\n",
       "    <tr>\n",
       "      <td>154 OTHER EAR, NOSE, MOUTH &amp; THROAT ...</td>\n",
       "      <td>0</td>\n",
       "      <td>0</td>\n",
       "      <td>1</td>\n",
       "      <td>0</td>\n",
       "      <td>0</td>\n",
       "      <td>0</td>\n",
       "      <td>1</td>\n",
       "    </tr>\n",
       "    <tr>\n",
       "      <td>156 OTHER EAR, NOSE, MOUTH &amp; THROAT ...</td>\n",
       "      <td>1</td>\n",
       "      <td>0</td>\n",
       "      <td>0</td>\n",
       "      <td>0</td>\n",
       "      <td>0</td>\n",
       "      <td>0</td>\n",
       "      <td>1</td>\n",
       "    </tr>\n",
       "    <tr>\n",
       "      <td>163 MAJOR CHEST PROCEDURES W MCC</td>\n",
       "      <td>0</td>\n",
       "      <td>0</td>\n",
       "      <td>1</td>\n",
       "      <td>0</td>\n",
       "      <td>0</td>\n",
       "      <td>0</td>\n",
       "      <td>1</td>\n",
       "    </tr>\n",
       "    <tr>\n",
       "      <td>166 OTHER RESP SYSTEM O.R. PROCEDURE...</td>\n",
       "      <td>0</td>\n",
       "      <td>1</td>\n",
       "      <td>0</td>\n",
       "      <td>0</td>\n",
       "      <td>0</td>\n",
       "      <td>0</td>\n",
       "      <td>1</td>\n",
       "    </tr>\n",
       "    <tr>\n",
       "      <td>326 STOMACH, ESOPHAGEAL &amp; DUODENAL P...</td>\n",
       "      <td>0</td>\n",
       "      <td>0</td>\n",
       "      <td>0</td>\n",
       "      <td>0</td>\n",
       "      <td>0</td>\n",
       "      <td>1</td>\n",
       "      <td>1</td>\n",
       "    </tr>\n",
       "    <tr>\n",
       "      <td>392 ESOPHAGITIS, GASTROENT &amp; MISC DI...</td>\n",
       "      <td>0</td>\n",
       "      <td>0</td>\n",
       "      <td>0</td>\n",
       "      <td>1</td>\n",
       "      <td>0</td>\n",
       "      <td>0</td>\n",
       "      <td>1</td>\n",
       "    </tr>\n",
       "    <tr>\n",
       "      <td>603 CELLULITIS W/O MCC</td>\n",
       "      <td>0</td>\n",
       "      <td>0</td>\n",
       "      <td>0</td>\n",
       "      <td>0</td>\n",
       "      <td>1</td>\n",
       "      <td>0</td>\n",
       "      <td>1</td>\n",
       "    </tr>\n",
       "    <tr>\n",
       "      <td>Other</td>\n",
       "      <td>1</td>\n",
       "      <td>1</td>\n",
       "      <td>1</td>\n",
       "      <td>0</td>\n",
       "      <td>0</td>\n",
       "      <td>0</td>\n",
       "      <td>3</td>\n",
       "    </tr>\n",
       "    <tr>\n",
       "      <td>Total</td>\n",
       "      <td>4</td>\n",
       "      <td>3</td>\n",
       "      <td>4</td>\n",
       "      <td>2</td>\n",
       "      <td>1</td>\n",
       "      <td>2</td>\n",
       "      <td>16</td>\n",
       "    </tr>\n",
       "  </tbody>\n",
       "</table>"
      ],
      "text/plain": [
       "<IPython.core.display.HTML object>"
      ]
     },
     "metadata": {},
     "output_type": "display_data"
    }
   ],
   "source": [
    "test = build_dash(ip,'16379','drg',10)\n",
    "\n",
    "display(HTML(test.to_html(index=False)))"
   ]
  },
  {
   "cell_type": "markdown",
   "metadata": {},
   "source": [
    "<p style=\"page-break-after:always;\"></p>"
   ]
  },
  {
   "cell_type": "markdown",
   "metadata": {
    "slideshow": {
     "slide_type": "slide"
    }
   },
   "source": [
    "<h3>Inpatient Cases by Primary Diagnosis </h3>\n",
    "<i>Attending physician, by discharge date, coded encounters only</i>"
   ]
  },
  {
   "cell_type": "code",
   "execution_count": 108,
   "metadata": {
    "collapsed": false,
    "scrolled": true,
    "slideshow": {
     "slide_type": "slide"
    }
   },
   "outputs": [
    {
     "data": {
      "text/html": [
       "<table border=\"1\" class=\"dataframe\">\n",
       "  <thead>\n",
       "    <tr style=\"text-align: right;\">\n",
       "      <th>dx_name</th>\n",
       "      <th>Aug</th>\n",
       "      <th>Sep</th>\n",
       "      <th>Oct</th>\n",
       "      <th>Nov</th>\n",
       "      <th>Dec</th>\n",
       "      <th>Jan</th>\n",
       "      <th>All</th>\n",
       "    </tr>\n",
       "  </thead>\n",
       "  <tbody>\n",
       "    <tr>\n",
       "      <td>Other specified diseases of upper re...</td>\n",
       "      <td>0</td>\n",
       "      <td>1</td>\n",
       "      <td>2</td>\n",
       "      <td>0</td>\n",
       "      <td>0</td>\n",
       "      <td>0</td>\n",
       "      <td>3</td>\n",
       "    </tr>\n",
       "    <tr>\n",
       "      <td>Cellulitis of left external ear</td>\n",
       "      <td>1</td>\n",
       "      <td>0</td>\n",
       "      <td>0</td>\n",
       "      <td>0</td>\n",
       "      <td>0</td>\n",
       "      <td>0</td>\n",
       "      <td>1</td>\n",
       "    </tr>\n",
       "    <tr>\n",
       "      <td>Cutaneous abscess of neck</td>\n",
       "      <td>0</td>\n",
       "      <td>0</td>\n",
       "      <td>0</td>\n",
       "      <td>0</td>\n",
       "      <td>1</td>\n",
       "      <td>0</td>\n",
       "      <td>1</td>\n",
       "    </tr>\n",
       "    <tr>\n",
       "      <td>Dysphagia, pharyngoesophageal phase</td>\n",
       "      <td>0</td>\n",
       "      <td>0</td>\n",
       "      <td>0</td>\n",
       "      <td>0</td>\n",
       "      <td>0</td>\n",
       "      <td>1</td>\n",
       "      <td>1</td>\n",
       "    </tr>\n",
       "    <tr>\n",
       "      <td>Dysphagia, unspecified</td>\n",
       "      <td>0</td>\n",
       "      <td>0</td>\n",
       "      <td>0</td>\n",
       "      <td>1</td>\n",
       "      <td>0</td>\n",
       "      <td>0</td>\n",
       "      <td>1</td>\n",
       "    </tr>\n",
       "    <tr>\n",
       "      <td>Malignant neoplasm of glottis</td>\n",
       "      <td>0</td>\n",
       "      <td>1</td>\n",
       "      <td>0</td>\n",
       "      <td>0</td>\n",
       "      <td>0</td>\n",
       "      <td>0</td>\n",
       "      <td>1</td>\n",
       "    </tr>\n",
       "    <tr>\n",
       "      <td>Malignant neoplasm of overlapping si...</td>\n",
       "      <td>1</td>\n",
       "      <td>0</td>\n",
       "      <td>0</td>\n",
       "      <td>0</td>\n",
       "      <td>0</td>\n",
       "      <td>0</td>\n",
       "      <td>1</td>\n",
       "    </tr>\n",
       "    <tr>\n",
       "      <td>Malignant neoplasm of supraglottis</td>\n",
       "      <td>0</td>\n",
       "      <td>0</td>\n",
       "      <td>0</td>\n",
       "      <td>1</td>\n",
       "      <td>0</td>\n",
       "      <td>0</td>\n",
       "      <td>1</td>\n",
       "    </tr>\n",
       "    <tr>\n",
       "      <td>Obstructive sleep apnea (adult) (ped...</td>\n",
       "      <td>1</td>\n",
       "      <td>0</td>\n",
       "      <td>0</td>\n",
       "      <td>0</td>\n",
       "      <td>0</td>\n",
       "      <td>0</td>\n",
       "      <td>1</td>\n",
       "    </tr>\n",
       "    <tr>\n",
       "      <td>Other complications of procedures, n...</td>\n",
       "      <td>0</td>\n",
       "      <td>1</td>\n",
       "      <td>0</td>\n",
       "      <td>0</td>\n",
       "      <td>0</td>\n",
       "      <td>0</td>\n",
       "      <td>1</td>\n",
       "    </tr>\n",
       "    <tr>\n",
       "      <td>Other</td>\n",
       "      <td>1</td>\n",
       "      <td>0</td>\n",
       "      <td>2</td>\n",
       "      <td>0</td>\n",
       "      <td>0</td>\n",
       "      <td>1</td>\n",
       "      <td>4</td>\n",
       "    </tr>\n",
       "    <tr>\n",
       "      <td>Total</td>\n",
       "      <td>4</td>\n",
       "      <td>3</td>\n",
       "      <td>4</td>\n",
       "      <td>2</td>\n",
       "      <td>1</td>\n",
       "      <td>2</td>\n",
       "      <td>16</td>\n",
       "    </tr>\n",
       "  </tbody>\n",
       "</table>"
      ],
      "text/plain": [
       "<IPython.core.display.HTML object>"
      ]
     },
     "metadata": {},
     "output_type": "display_data"
    },
    {
     "data": {
      "image/png": "[encoded data removed]",
      "text/plain": [
       "<matplotlib.figure.Figure at 0xe8a8588>"
      ]
     },
     "metadata": {},
     "output_type": "display_data"
    }
   ],
   "source": [
    "test = build_dash(dx.query('baseclass == 1'),'16379','dx_name',10)\n",
    "display(HTML(test.to_html(index=False)))\n",
    "line_plot(test,'Cases');"
   ]
  },
  {
   "cell_type": "markdown",
   "metadata": {
    "slideshow": {
     "slide_type": "slide"
    }
   },
   "source": [
    "<h3>Outpatient Cases by Primary Diagnosis</h3>\n",
    "<i>Attending physician, by discharge date, coded encounters only</i>"
   ]
  },
  {
   "cell_type": "code",
   "execution_count": 109,
   "metadata": {
    "collapsed": false,
    "slideshow": {
     "slide_type": "slide"
    }
   },
   "outputs": [
    {
     "data": {
      "text/html": [
       "<table border=\"1\" class=\"dataframe\">\n",
       "  <thead>\n",
       "    <tr style=\"text-align: right;\">\n",
       "      <th>dx_name</th>\n",
       "      <th>Aug</th>\n",
       "      <th>Sep</th>\n",
       "      <th>Oct</th>\n",
       "      <th>Nov</th>\n",
       "      <th>Dec</th>\n",
       "      <th>Jan</th>\n",
       "      <th>All</th>\n",
       "    </tr>\n",
       "  </thead>\n",
       "  <tbody>\n",
       "    <tr>\n",
       "      <td>Sensorineural hearing loss, bilateral</td>\n",
       "      <td>12</td>\n",
       "      <td>12</td>\n",
       "      <td>5</td>\n",
       "      <td>8</td>\n",
       "      <td>9</td>\n",
       "      <td>6</td>\n",
       "      <td>52</td>\n",
       "    </tr>\n",
       "    <tr>\n",
       "      <td>Dysphonia</td>\n",
       "      <td>9</td>\n",
       "      <td>4</td>\n",
       "      <td>4</td>\n",
       "      <td>3</td>\n",
       "      <td>8</td>\n",
       "      <td>19</td>\n",
       "      <td>47</td>\n",
       "    </tr>\n",
       "    <tr>\n",
       "      <td>Dysphagia, unspecified</td>\n",
       "      <td>3</td>\n",
       "      <td>7</td>\n",
       "      <td>5</td>\n",
       "      <td>7</td>\n",
       "      <td>8</td>\n",
       "      <td>9</td>\n",
       "      <td>39</td>\n",
       "    </tr>\n",
       "    <tr>\n",
       "      <td>Other diseases of larynx</td>\n",
       "      <td>4</td>\n",
       "      <td>6</td>\n",
       "      <td>7</td>\n",
       "      <td>9</td>\n",
       "      <td>8</td>\n",
       "      <td>4</td>\n",
       "      <td>38</td>\n",
       "    </tr>\n",
       "    <tr>\n",
       "      <td>Other diseases of vocal cords</td>\n",
       "      <td>1</td>\n",
       "      <td>3</td>\n",
       "      <td>8</td>\n",
       "      <td>5</td>\n",
       "      <td>8</td>\n",
       "      <td>7</td>\n",
       "      <td>32</td>\n",
       "    </tr>\n",
       "    <tr>\n",
       "      <td>Paralysis of vocal cords and larynx,...</td>\n",
       "      <td>4</td>\n",
       "      <td>8</td>\n",
       "      <td>5</td>\n",
       "      <td>6</td>\n",
       "      <td>4</td>\n",
       "      <td>2</td>\n",
       "      <td>29</td>\n",
       "    </tr>\n",
       "    <tr>\n",
       "      <td>Stenosis of larynx</td>\n",
       "      <td>2</td>\n",
       "      <td>2</td>\n",
       "      <td>9</td>\n",
       "      <td>2</td>\n",
       "      <td>6</td>\n",
       "      <td>6</td>\n",
       "      <td>27</td>\n",
       "    </tr>\n",
       "    <tr>\n",
       "      <td>Encounter for other preprocedural ex...</td>\n",
       "      <td>2</td>\n",
       "      <td>8</td>\n",
       "      <td>9</td>\n",
       "      <td>5</td>\n",
       "      <td>0</td>\n",
       "      <td>1</td>\n",
       "      <td>25</td>\n",
       "    </tr>\n",
       "    <tr>\n",
       "      <td>Other specified diseases of upper re...</td>\n",
       "      <td>4</td>\n",
       "      <td>4</td>\n",
       "      <td>7</td>\n",
       "      <td>1</td>\n",
       "      <td>3</td>\n",
       "      <td>4</td>\n",
       "      <td>23</td>\n",
       "    </tr>\n",
       "    <tr>\n",
       "      <td>Obstructive sleep apnea (adult) (ped...</td>\n",
       "      <td>3</td>\n",
       "      <td>5</td>\n",
       "      <td>5</td>\n",
       "      <td>2</td>\n",
       "      <td>1</td>\n",
       "      <td>2</td>\n",
       "      <td>18</td>\n",
       "    </tr>\n",
       "    <tr>\n",
       "      <td>Other</td>\n",
       "      <td>106</td>\n",
       "      <td>157</td>\n",
       "      <td>78</td>\n",
       "      <td>84</td>\n",
       "      <td>110</td>\n",
       "      <td>98</td>\n",
       "      <td>633</td>\n",
       "    </tr>\n",
       "    <tr>\n",
       "      <td>Total</td>\n",
       "      <td>150</td>\n",
       "      <td>216</td>\n",
       "      <td>142</td>\n",
       "      <td>132</td>\n",
       "      <td>165</td>\n",
       "      <td>158</td>\n",
       "      <td>963</td>\n",
       "    </tr>\n",
       "  </tbody>\n",
       "</table>"
      ],
      "text/plain": [
       "<IPython.core.display.HTML object>"
      ]
     },
     "metadata": {},
     "output_type": "display_data"
    },
    {
     "data": {
      "image/png": "[encoded data removed]",
      "text/plain": [
       "<matplotlib.figure.Figure at 0xd263dd8>"
      ]
     },
     "metadata": {},
     "output_type": "display_data"
    }
   ],
   "source": [
    "test = build_dash(dx.query('baseclass == 2'),'16379','dx_name',10)\n",
    "display(HTML(test.to_html(index=False)))\n",
    "line_plot(test,'Cases');"
   ]
  },
  {
   "cell_type": "markdown",
   "metadata": {
    "slideshow": {
     "slide_type": "slide"
    }
   },
   "source": [
    "<h3>Clinic Visits by Department</h3>\n",
    "<i>Attending physician, by encounter date</i>"
   ]
  },
  {
   "cell_type": "code",
   "execution_count": 110,
   "metadata": {
    "collapsed": false,
    "scrolled": true,
    "slideshow": {
     "slide_type": "slide"
    }
   },
   "outputs": [
    {
     "data": {
      "text/html": [
       "<table border=\"1\" class=\"dataframe\">\n",
       "  <thead>\n",
       "    <tr style=\"text-align: right;\">\n",
       "      <th>Lawson Name</th>\n",
       "      <th>Aug</th>\n",
       "      <th>Sep</th>\n",
       "      <th>Oct</th>\n",
       "      <th>Nov</th>\n",
       "      <th>Dec</th>\n",
       "      <th>Jan</th>\n",
       "      <th>All</th>\n",
       "    </tr>\n",
       "  </thead>\n",
       "  <tbody>\n",
       "    <tr>\n",
       "      <td>ENT Clinic</td>\n",
       "      <td>116</td>\n",
       "      <td>173</td>\n",
       "      <td>107</td>\n",
       "      <td>96</td>\n",
       "      <td>128</td>\n",
       "      <td>121</td>\n",
       "      <td>741</td>\n",
       "    </tr>\n",
       "    <tr>\n",
       "      <td>Physical Therapy</td>\n",
       "      <td>37</td>\n",
       "      <td>54</td>\n",
       "      <td>31</td>\n",
       "      <td>27</td>\n",
       "      <td>39</td>\n",
       "      <td>31</td>\n",
       "      <td>219</td>\n",
       "    </tr>\n",
       "    <tr>\n",
       "      <td>PAT PreAnesthesia Testing</td>\n",
       "      <td>7</td>\n",
       "      <td>13</td>\n",
       "      <td>18</td>\n",
       "      <td>11</td>\n",
       "      <td>11</td>\n",
       "      <td>15</td>\n",
       "      <td>75</td>\n",
       "    </tr>\n",
       "    <tr>\n",
       "      <td>CT/MR</td>\n",
       "      <td>3</td>\n",
       "      <td>4</td>\n",
       "      <td>4</td>\n",
       "      <td>1</td>\n",
       "      <td>7</td>\n",
       "      <td>5</td>\n",
       "      <td>24</td>\n",
       "    </tr>\n",
       "    <tr>\n",
       "      <td>Diagnostic Imaging</td>\n",
       "      <td>1</td>\n",
       "      <td>0</td>\n",
       "      <td>4</td>\n",
       "      <td>1</td>\n",
       "      <td>2</td>\n",
       "      <td>4</td>\n",
       "      <td>12</td>\n",
       "    </tr>\n",
       "    <tr>\n",
       "      <td>MRI</td>\n",
       "      <td>0</td>\n",
       "      <td>1</td>\n",
       "      <td>0</td>\n",
       "      <td>0</td>\n",
       "      <td>1</td>\n",
       "      <td>2</td>\n",
       "      <td>4</td>\n",
       "    </tr>\n",
       "    <tr>\n",
       "      <td>Medicine Specialty Clinic</td>\n",
       "      <td>0</td>\n",
       "      <td>0</td>\n",
       "      <td>0</td>\n",
       "      <td>0</td>\n",
       "      <td>0</td>\n",
       "      <td>4</td>\n",
       "      <td>4</td>\n",
       "    </tr>\n",
       "    <tr>\n",
       "      <td>Ambulatory Care Admin</td>\n",
       "      <td>0</td>\n",
       "      <td>0</td>\n",
       "      <td>3</td>\n",
       "      <td>1</td>\n",
       "      <td>0</td>\n",
       "      <td>0</td>\n",
       "      <td>4</td>\n",
       "    </tr>\n",
       "    <tr>\n",
       "      <td>Chemistry</td>\n",
       "      <td>0</td>\n",
       "      <td>2</td>\n",
       "      <td>2</td>\n",
       "      <td>0</td>\n",
       "      <td>0</td>\n",
       "      <td>0</td>\n",
       "      <td>4</td>\n",
       "    </tr>\n",
       "    <tr>\n",
       "      <td>Family Practice Clinic</td>\n",
       "      <td>0</td>\n",
       "      <td>0</td>\n",
       "      <td>1</td>\n",
       "      <td>0</td>\n",
       "      <td>1</td>\n",
       "      <td>0</td>\n",
       "      <td>2</td>\n",
       "    </tr>\n",
       "    <tr>\n",
       "      <td>Other</td>\n",
       "      <td>2</td>\n",
       "      <td>5</td>\n",
       "      <td>2</td>\n",
       "      <td>2</td>\n",
       "      <td>0</td>\n",
       "      <td>2</td>\n",
       "      <td>13</td>\n",
       "    </tr>\n",
       "    <tr>\n",
       "      <td>Total</td>\n",
       "      <td>166</td>\n",
       "      <td>252</td>\n",
       "      <td>172</td>\n",
       "      <td>139</td>\n",
       "      <td>189</td>\n",
       "      <td>184</td>\n",
       "      <td>1,102</td>\n",
       "    </tr>\n",
       "  </tbody>\n",
       "</table>"
      ],
      "text/plain": [
       "<IPython.core.display.HTML object>"
      ]
     },
     "metadata": {},
     "output_type": "display_data"
    },
    {
     "data": {
      "image/png": "[encoded data removed]",
      "text/plain": [
       "<matplotlib.figure.Figure at 0xc0a7fd0>"
      ]
     },
     "metadata": {},
     "output_type": "display_data"
    }
   ],
   "source": [
    "test = build_dash(op,'16379','Lawson Name',10)\n",
    "display(HTML(test.to_html(index=False)))\n",
    "line_plot(test,'Lawson Name');"
   ]
  },
  {
   "cell_type": "markdown",
   "metadata": {
    "slideshow": {
     "slide_type": "slide"
    }
   },
   "source": [
    "<h3>Clinic Visits by Financial Class</h3>\n",
    "<i>Attending Physician, by encounter date</i>"
   ]
  },
  {
   "cell_type": "code",
   "execution_count": 111,
   "metadata": {
    "collapsed": false,
    "scrolled": false,
    "slideshow": {
     "slide_type": "slide"
    }
   },
   "outputs": [
    {
     "data": {
      "text/html": [
       "<table border=\"1\" class=\"dataframe\">\n",
       "  <thead>\n",
       "    <tr style=\"text-align: right;\">\n",
       "      <th>fin_class</th>\n",
       "      <th>Aug</th>\n",
       "      <th>Sep</th>\n",
       "      <th>Oct</th>\n",
       "      <th>Nov</th>\n",
       "      <th>Dec</th>\n",
       "      <th>Jan</th>\n",
       "      <th>All</th>\n",
       "    </tr>\n",
       "  </thead>\n",
       "  <tbody>\n",
       "    <tr>\n",
       "      <td>Medicaid</td>\n",
       "      <td>54</td>\n",
       "      <td>90</td>\n",
       "      <td>50</td>\n",
       "      <td>44</td>\n",
       "      <td>63</td>\n",
       "      <td>72</td>\n",
       "      <td>373</td>\n",
       "    </tr>\n",
       "    <tr>\n",
       "      <td>Commercial</td>\n",
       "      <td>49</td>\n",
       "      <td>78</td>\n",
       "      <td>55</td>\n",
       "      <td>47</td>\n",
       "      <td>59</td>\n",
       "      <td>42</td>\n",
       "      <td>330</td>\n",
       "    </tr>\n",
       "    <tr>\n",
       "      <td>Medicare</td>\n",
       "      <td>43</td>\n",
       "      <td>65</td>\n",
       "      <td>52</td>\n",
       "      <td>36</td>\n",
       "      <td>53</td>\n",
       "      <td>53</td>\n",
       "      <td>302</td>\n",
       "    </tr>\n",
       "    <tr>\n",
       "      <td>Free Care</td>\n",
       "      <td>17</td>\n",
       "      <td>14</td>\n",
       "      <td>13</td>\n",
       "      <td>10</td>\n",
       "      <td>13</td>\n",
       "      <td>12</td>\n",
       "      <td>79</td>\n",
       "    </tr>\n",
       "    <tr>\n",
       "      <td>Self-pay</td>\n",
       "      <td>3</td>\n",
       "      <td>5</td>\n",
       "      <td>2</td>\n",
       "      <td>2</td>\n",
       "      <td>1</td>\n",
       "      <td>5</td>\n",
       "      <td>18</td>\n",
       "    </tr>\n",
       "    <tr>\n",
       "      <td>Total</td>\n",
       "      <td>166</td>\n",
       "      <td>252</td>\n",
       "      <td>172</td>\n",
       "      <td>139</td>\n",
       "      <td>189</td>\n",
       "      <td>184</td>\n",
       "      <td>1,102</td>\n",
       "    </tr>\n",
       "  </tbody>\n",
       "</table>"
      ],
      "text/plain": [
       "<IPython.core.display.HTML object>"
      ]
     },
     "metadata": {},
     "output_type": "display_data"
    },
    {
     "data": {
      "image/png": "[encoded data removed]",
      "text/plain": [
       "<matplotlib.figure.Figure at 0xc14bcf8>"
      ]
     },
     "metadata": {},
     "output_type": "display_data"
    }
   ],
   "source": [
    "test = build_dash(op,'16379','fin_class',10)\n",
    "display(HTML(test.to_html(index=False)))\n",
    "#plot\n",
    "t= op.groupby(['fin_class','APPT_MONTH']).count()['hsp_account_id'].unstack().transpose()\n",
    "t= t.reindex(month_ints).reset_index()\n",
    "t.columns.name = ''\n",
    "t= t.drop(t.columns[0],axis=1)\n",
    "plot = t.plot(figsize=(10,3),title='Clinic Visits by Financial Class')\n",
    "#plot.set_xticks(month_ints)\n",
    "plot.set_xticklabels(labels=month_names)\n",
    "plt.legend(bbox_to_anchor=(1.22,.5), loc='right', ncol=1);"
   ]
  },
  {
   "cell_type": "markdown",
   "metadata": {
    "slideshow": {
     "slide_type": "slide"
    }
   },
   "source": [
    "<h3>Inpatient Charges by Financial Class</h3>\n",
    "<i>Attending physician, by discharge date, coded encounters only</i>"
   ]
  },
  {
   "cell_type": "code",
   "execution_count": 112,
   "metadata": {
    "collapsed": false,
    "slideshow": {
     "slide_type": "slide"
    }
   },
   "outputs": [
    {
     "data": {
      "text/html": [
       "<table border=\"1\" class=\"dataframe\">\n",
       "  <thead>\n",
       "    <tr style=\"text-align: right;\">\n",
       "      <th>fin_class</th>\n",
       "      <th>Aug</th>\n",
       "      <th>Sep</th>\n",
       "      <th>Oct</th>\n",
       "      <th>Nov</th>\n",
       "      <th>Dec</th>\n",
       "      <th>Jan</th>\n",
       "      <th>All</th>\n",
       "    </tr>\n",
       "  </thead>\n",
       "  <tbody>\n",
       "    <tr>\n",
       "      <td>Commercial</td>\n",
       "      <td>67,016</td>\n",
       "      <td>34,286</td>\n",
       "      <td>89,908</td>\n",
       "      <td>18,297</td>\n",
       "      <td>0</td>\n",
       "      <td>0</td>\n",
       "      <td>209,506</td>\n",
       "    </tr>\n",
       "    <tr>\n",
       "      <td>Medicare</td>\n",
       "      <td>0</td>\n",
       "      <td>43,056</td>\n",
       "      <td>80,105</td>\n",
       "      <td>0</td>\n",
       "      <td>0</td>\n",
       "      <td>70,174</td>\n",
       "      <td>193,334</td>\n",
       "    </tr>\n",
       "    <tr>\n",
       "      <td>Medicaid</td>\n",
       "      <td>40,406</td>\n",
       "      <td>0</td>\n",
       "      <td>36,767</td>\n",
       "      <td>0</td>\n",
       "      <td>3,904</td>\n",
       "      <td>14,149</td>\n",
       "      <td>95,226</td>\n",
       "    </tr>\n",
       "    <tr>\n",
       "      <td>Total</td>\n",
       "      <td>107,422</td>\n",
       "      <td>77,342</td>\n",
       "      <td>206,780</td>\n",
       "      <td>18,297</td>\n",
       "      <td>3,904</td>\n",
       "      <td>84,323</td>\n",
       "      <td>498,066</td>\n",
       "    </tr>\n",
       "  </tbody>\n",
       "</table>"
      ],
      "text/plain": [
       "<IPython.core.display.HTML object>"
      ]
     },
     "metadata": {},
     "output_type": "display_data"
    }
   ],
   "source": [
    "test = build_dash(dx.query('baseclass == 1'),'16379','fin_class',10,_count='tot_chgs',_func='sum')\n",
    "display(HTML(test.to_html(index=False)))"
   ]
  },
  {
   "cell_type": "markdown",
   "metadata": {
    "slideshow": {
     "slide_type": "slide"
    }
   },
   "source": [
    "<h3>Outpatient Charges by Financial Class</h3>\n",
    "<i>Attending Physician, by discharge date, coded encounters only</i>"
   ]
  },
  {
   "cell_type": "code",
   "execution_count": 113,
   "metadata": {
    "collapsed": false,
    "scrolled": true,
    "slideshow": {
     "slide_type": "slide"
    }
   },
   "outputs": [
    {
     "data": {
      "text/html": [
       "<table border=\"1\" class=\"dataframe\">\n",
       "  <thead>\n",
       "    <tr style=\"text-align: right;\">\n",
       "      <th>fin_class</th>\n",
       "      <th>Aug</th>\n",
       "      <th>Sep</th>\n",
       "      <th>Oct</th>\n",
       "      <th>Nov</th>\n",
       "      <th>Dec</th>\n",
       "      <th>Jan</th>\n",
       "      <th>All</th>\n",
       "    </tr>\n",
       "  </thead>\n",
       "  <tbody>\n",
       "    <tr>\n",
       "      <td>Commercial</td>\n",
       "      <td>25,552</td>\n",
       "      <td>50,305</td>\n",
       "      <td>71,736</td>\n",
       "      <td>65,658</td>\n",
       "      <td>75,733</td>\n",
       "      <td>87,224</td>\n",
       "      <td>376,209</td>\n",
       "    </tr>\n",
       "    <tr>\n",
       "      <td>Medicare</td>\n",
       "      <td>27,386</td>\n",
       "      <td>75,820</td>\n",
       "      <td>64,790</td>\n",
       "      <td>52,482</td>\n",
       "      <td>60,955</td>\n",
       "      <td>79,479</td>\n",
       "      <td>360,911</td>\n",
       "    </tr>\n",
       "    <tr>\n",
       "      <td>Medicaid</td>\n",
       "      <td>23,699</td>\n",
       "      <td>47,724</td>\n",
       "      <td>44,556</td>\n",
       "      <td>39,353</td>\n",
       "      <td>47,990</td>\n",
       "      <td>54,039</td>\n",
       "      <td>257,360</td>\n",
       "    </tr>\n",
       "    <tr>\n",
       "      <td>Free Care</td>\n",
       "      <td>9,545</td>\n",
       "      <td>19,161</td>\n",
       "      <td>12,794</td>\n",
       "      <td>4,334</td>\n",
       "      <td>4,663</td>\n",
       "      <td>10,466</td>\n",
       "      <td>60,962</td>\n",
       "    </tr>\n",
       "    <tr>\n",
       "      <td>Self-pay</td>\n",
       "      <td>1,201</td>\n",
       "      <td>1,974</td>\n",
       "      <td>1,299</td>\n",
       "      <td>748</td>\n",
       "      <td>8,059</td>\n",
       "      <td>1,838</td>\n",
       "      <td>15,119</td>\n",
       "    </tr>\n",
       "    <tr>\n",
       "      <td>Total</td>\n",
       "      <td>87,383</td>\n",
       "      <td>194,984</td>\n",
       "      <td>195,174</td>\n",
       "      <td>162,576</td>\n",
       "      <td>197,399</td>\n",
       "      <td>233,046</td>\n",
       "      <td>1,070,562</td>\n",
       "    </tr>\n",
       "  </tbody>\n",
       "</table>"
      ],
      "text/plain": [
       "<IPython.core.display.HTML object>"
      ]
     },
     "metadata": {},
     "output_type": "display_data"
    }
   ],
   "source": [
    "test = build_dash(dx.query('baseclass == 2 | baseclass == 3'),'16379','fin_class',10,_count='tot_chgs',_func='sum')\n",
    "display(HTML(test.to_html(index=False)))"
   ]
  },
  {
   "cell_type": "markdown",
   "metadata": {
    "slideshow": {
     "slide_type": "slide"
    }
   },
   "source": [
    "<h3>Total Charges by Financial Class</h3>\n",
    "<i>Attending Physician, by discharge date, coded encounters only</i>"
   ]
  },
  {
   "cell_type": "code",
   "execution_count": 114,
   "metadata": {
    "collapsed": false,
    "slideshow": {
     "slide_type": "slide"
    }
   },
   "outputs": [
    {
     "data": {
      "text/html": [
       "<table border=\"1\" class=\"dataframe\">\n",
       "  <thead>\n",
       "    <tr style=\"text-align: right;\">\n",
       "      <th>fin_class</th>\n",
       "      <th>Aug</th>\n",
       "      <th>Sep</th>\n",
       "      <th>Oct</th>\n",
       "      <th>Nov</th>\n",
       "      <th>Dec</th>\n",
       "      <th>Jan</th>\n",
       "      <th>All</th>\n",
       "    </tr>\n",
       "  </thead>\n",
       "  <tbody>\n",
       "    <tr>\n",
       "      <td>Commercial</td>\n",
       "      <td>92,568</td>\n",
       "      <td>84,591</td>\n",
       "      <td>161,644</td>\n",
       "      <td>83,956</td>\n",
       "      <td>75,733</td>\n",
       "      <td>87,224</td>\n",
       "      <td>585,715</td>\n",
       "    </tr>\n",
       "    <tr>\n",
       "      <td>Medicare</td>\n",
       "      <td>27,386</td>\n",
       "      <td>118,876</td>\n",
       "      <td>144,895</td>\n",
       "      <td>52,482</td>\n",
       "      <td>60,955</td>\n",
       "      <td>149,653</td>\n",
       "      <td>554,246</td>\n",
       "    </tr>\n",
       "    <tr>\n",
       "      <td>Medicaid</td>\n",
       "      <td>64,104</td>\n",
       "      <td>47,724</td>\n",
       "      <td>81,323</td>\n",
       "      <td>39,353</td>\n",
       "      <td>51,893</td>\n",
       "      <td>68,189</td>\n",
       "      <td>352,586</td>\n",
       "    </tr>\n",
       "    <tr>\n",
       "      <td>Free Care</td>\n",
       "      <td>9,545</td>\n",
       "      <td>19,161</td>\n",
       "      <td>12,794</td>\n",
       "      <td>4,334</td>\n",
       "      <td>4,663</td>\n",
       "      <td>10,466</td>\n",
       "      <td>60,962</td>\n",
       "    </tr>\n",
       "    <tr>\n",
       "      <td>Self-pay</td>\n",
       "      <td>1,201</td>\n",
       "      <td>1,974</td>\n",
       "      <td>1,299</td>\n",
       "      <td>748</td>\n",
       "      <td>8,059</td>\n",
       "      <td>1,838</td>\n",
       "      <td>15,119</td>\n",
       "    </tr>\n",
       "    <tr>\n",
       "      <td>Total</td>\n",
       "      <td>194,804</td>\n",
       "      <td>272,325</td>\n",
       "      <td>401,953</td>\n",
       "      <td>180,873</td>\n",
       "      <td>201,303</td>\n",
       "      <td>317,370</td>\n",
       "      <td>1,568,629</td>\n",
       "    </tr>\n",
       "  </tbody>\n",
       "</table>"
      ],
      "text/plain": [
       "<IPython.core.display.HTML object>"
      ]
     },
     "metadata": {},
     "output_type": "display_data"
    },
    {
     "data": {
      "image/png": "[encoded data removed]",
      "text/plain": [
       "<matplotlib.figure.Figure at 0xc15b3c8>"
      ]
     },
     "metadata": {},
     "output_type": "display_data"
    }
   ],
   "source": [
    "test = build_dash(dx,'16379','fin_class',10,_count='tot_chgs',_func='sum')\n",
    "display(HTML(test.to_html(index=False)))\n",
    "\n",
    "line_plot(test,'Total Charges');"
   ]
  },
  {
   "cell_type": "markdown",
   "metadata": {
    "slideshow": {
     "slide_type": "slide"
    }
   },
   "source": [
    "<h3>OR Logs by Primary Procedure</h3>\n",
    "<i>Lead surgeon, by surgery date</i>"
   ]
  },
  {
   "cell_type": "code",
   "execution_count": 115,
   "metadata": {
    "collapsed": false,
    "slideshow": {
     "slide_type": "slide"
    }
   },
   "outputs": [
    {
     "data": {
      "text/html": [
       "<table border=\"1\" class=\"dataframe\">\n",
       "  <thead>\n",
       "    <tr style=\"text-align: right;\">\n",
       "      <th>prim_procedure</th>\n",
       "      <th>Jul</th>\n",
       "      <th>Aug</th>\n",
       "      <th>Sep</th>\n",
       "      <th>Oct</th>\n",
       "      <th>Nov</th>\n",
       "      <th>Dec</th>\n",
       "      <th>Jan</th>\n",
       "      <th>All</th>\n",
       "    </tr>\n",
       "  </thead>\n",
       "  <tbody>\n",
       "    <tr>\n",
       "      <td>LARYNGOSCOPY MICRO WITH LASER</td>\n",
       "      <td>0</td>\n",
       "      <td>0</td>\n",
       "      <td>0</td>\n",
       "      <td>2</td>\n",
       "      <td>3</td>\n",
       "      <td>5</td>\n",
       "      <td>11</td>\n",
       "      <td>21</td>\n",
       "    </tr>\n",
       "    <tr>\n",
       "      <td>TRACHEOTOMY</td>\n",
       "      <td>0</td>\n",
       "      <td>0</td>\n",
       "      <td>2</td>\n",
       "      <td>1</td>\n",
       "      <td>1</td>\n",
       "      <td>0</td>\n",
       "      <td>3</td>\n",
       "      <td>7</td>\n",
       "    </tr>\n",
       "    <tr>\n",
       "      <td>PANENDOSCOPY</td>\n",
       "      <td>0</td>\n",
       "      <td>2</td>\n",
       "      <td>2</td>\n",
       "      <td>2</td>\n",
       "      <td>0</td>\n",
       "      <td>0</td>\n",
       "      <td>0</td>\n",
       "      <td>6</td>\n",
       "    </tr>\n",
       "    <tr>\n",
       "      <td>DIRECT LARYGOSCOPY RIGID BRONCH TRAC...</td>\n",
       "      <td>0</td>\n",
       "      <td>1</td>\n",
       "      <td>3</td>\n",
       "      <td>1</td>\n",
       "      <td>0</td>\n",
       "      <td>0</td>\n",
       "      <td>0</td>\n",
       "      <td>5</td>\n",
       "    </tr>\n",
       "    <tr>\n",
       "      <td>ESOPHAGOSCOPY DILATION WITH BOUGIE</td>\n",
       "      <td>0</td>\n",
       "      <td>0</td>\n",
       "      <td>1</td>\n",
       "      <td>1</td>\n",
       "      <td>2</td>\n",
       "      <td>1</td>\n",
       "      <td>0</td>\n",
       "      <td>5</td>\n",
       "    </tr>\n",
       "    <tr>\n",
       "      <td>ENDOSCOPIC AIRWAY SUSPENSION MICROLA...</td>\n",
       "      <td>0</td>\n",
       "      <td>0</td>\n",
       "      <td>4</td>\n",
       "      <td>0</td>\n",
       "      <td>0</td>\n",
       "      <td>0</td>\n",
       "      <td>0</td>\n",
       "      <td>4</td>\n",
       "    </tr>\n",
       "    <tr>\n",
       "      <td>TRACHEOTOMY/PANENDOSCOPY</td>\n",
       "      <td>0</td>\n",
       "      <td>0</td>\n",
       "      <td>0</td>\n",
       "      <td>1</td>\n",
       "      <td>2</td>\n",
       "      <td>0</td>\n",
       "      <td>0</td>\n",
       "      <td>3</td>\n",
       "    </tr>\n",
       "    <tr>\n",
       "      <td>SUSPENSION MICRO-LARYNGOSCOPY (SML)</td>\n",
       "      <td>0</td>\n",
       "      <td>0</td>\n",
       "      <td>0</td>\n",
       "      <td>1</td>\n",
       "      <td>1</td>\n",
       "      <td>1</td>\n",
       "      <td>0</td>\n",
       "      <td>3</td>\n",
       "    </tr>\n",
       "    <tr>\n",
       "      <td>ENDOSCOPIC AIRWAY SUSPENSION MICROLA...</td>\n",
       "      <td>0</td>\n",
       "      <td>0</td>\n",
       "      <td>0</td>\n",
       "      <td>0</td>\n",
       "      <td>2</td>\n",
       "      <td>0</td>\n",
       "      <td>0</td>\n",
       "      <td>2</td>\n",
       "    </tr>\n",
       "    <tr>\n",
       "      <td>LARYNGOSCOPY DIRECT</td>\n",
       "      <td>0</td>\n",
       "      <td>1</td>\n",
       "      <td>1</td>\n",
       "      <td>0</td>\n",
       "      <td>0</td>\n",
       "      <td>0</td>\n",
       "      <td>0</td>\n",
       "      <td>2</td>\n",
       "    </tr>\n",
       "    <tr>\n",
       "      <td>Other</td>\n",
       "      <td>1</td>\n",
       "      <td>1</td>\n",
       "      <td>2</td>\n",
       "      <td>4</td>\n",
       "      <td>2</td>\n",
       "      <td>3</td>\n",
       "      <td>2</td>\n",
       "      <td>15</td>\n",
       "    </tr>\n",
       "    <tr>\n",
       "      <td>Total</td>\n",
       "      <td>1</td>\n",
       "      <td>5</td>\n",
       "      <td>15</td>\n",
       "      <td>13</td>\n",
       "      <td>13</td>\n",
       "      <td>10</td>\n",
       "      <td>16</td>\n",
       "      <td>73</td>\n",
       "    </tr>\n",
       "  </tbody>\n",
       "</table>"
      ],
      "text/plain": [
       "<IPython.core.display.HTML object>"
      ]
     },
     "metadata": {},
     "output_type": "display_data"
    },
    {
     "data": {
      "image/png": "[encoded data removed]",
      "text/plain": [
       "<matplotlib.figure.Figure at 0xe5b5438>"
      ]
     },
     "metadata": {},
     "output_type": "display_data"
    }
   ],
   "source": [
    "test = build_dash(log,'16379','prim_procedure',10,prov_type='srg_prov_id',_count='log_id')\n",
    "display(HTML(test.to_html(index=False)))\n",
    "line_plot(test,'OR Logs');"
   ]
  }
 ],
 "metadata": {
  "anaconda-cloud": {},
  "celltoolbar": "Slideshow",
  "kernelspec": {
   "display_name": "Python [py35]",
   "language": "python",
   "name": "Python [py35]"
  },
  "language_info": {
   "codemirror_mode": {
    "name": "ipython",
    "version": 3
   },
   "file_extension": ".py",
   "mimetype": "text/x-python",
   "name": "python",
   "nbconvert_exporter": "python",
   "pygments_lexer": "ipython3",
   "version": "3.5.2"
  }
 },
 "nbformat": 4,
 "nbformat_minor": 1
}
