{
 "cells": [
  {
   "cell_type": "code",
   "execution_count": 37,
   "metadata": {
    "collapsed": true
   },
   "outputs": [],
   "source": [
    "import pandas as pd\n",
    "import numpy as np\n",
    "import matplotlib.pyplot as plt\n",
    "import seaborn as sns\n",
    "import datetime\n",
    "%matplotlib inline"
   ]
  },
  {
   "cell_type": "code",
   "execution_count": 302,
   "metadata": {
    "collapsed": true
   },
   "outputs": [],
   "source": [
    "close = pd.read_csv('stocks-us-adjClose.csv')\n",
    "high = pd.read_csv('stocks-us-adjHigh.csv')\n",
    "low = pd.read_csv('stocks-us-adjLow.csv')\n",
    "adjopen = pd.read_csv('stocks-us-adjOpen.csv')\n",
    "volume = pd.read_csv('stocks-us-Volume.csv')"
   ]
  },
  {
   "cell_type": "code",
   "execution_count": 301,
   "metadata": {
    "collapsed": true
   },
   "outputs": [],
   "source": [
    "start_date = '1/1/2015'\n",
    "end_date = '1/1/2016'"
   ]
  },
  {
   "cell_type": "markdown",
   "metadata": {},
   "source": [
    "<h3> Clean data, drop null values, transpose columns and rows </h3>"
   ]
  },
  {
   "cell_type": "code",
   "execution_count": 244,
   "metadata": {
    "collapsed": true
   },
   "outputs": [],
   "source": [
    "def cleanify(data):\n",
    "    \n",
    "    data.iloc[:,0] = data.iloc[:,0].apply(lambda x: datetime.datetime\n",
    "                                          .strptime(x, '%Y-%m-%d'))\n",
    "    data = data[(data.iloc[:,0] >= start_date) & (data.iloc[:,0] < end_date)]\n",
    "    data = data.dropna(axis=1, how='all')\n",
    "    data = data.dropna(axis=0, how='all')\n",
    "    data = data.transpose()\n",
    "    data = data.reset_index()\n",
    "    new_header = data.iloc[0]\n",
    "    data = data[1:]\n",
    "    data.columns = new_header\n",
    "    data.rename(columns={'compiled from Yahoo! Finance data by Matt Borthwick'\n",
    "                        :'Symbol'}, inplace=True)\n",
    "    return data"
   ]
  },
  {
   "cell_type": "code",
   "execution_count": 303,
   "metadata": {},
   "outputs": [],
   "source": [
    "close = cleanify(close)\n",
    "adjopen = cleanify(adjopen)"
   ]
  },
  {
   "cell_type": "markdown",
   "metadata": {},
   "source": [
    "<h3> Set df values to daily % change </h3>"
   ]
  },
  {
   "cell_type": "code",
   "execution_count": 304,
   "metadata": {},
   "outputs": [],
   "source": [
    "for x in close.columns:\n",
    "    if x != close.columns[0]:\n",
    "        close[x] = (close[x] - adjopen[x]) / adjopen[x] \n",
    "        \n",
    "df = close"
   ]
  },
  {
   "cell_type": "code",
   "execution_count": 305,
   "metadata": {},
   "outputs": [
    {
     "data": {
      "text/html": [
       "<div>\n",
       "<style>\n",
       "    .dataframe thead tr:only-child th {\n",
       "        text-align: right;\n",
       "    }\n",
       "\n",
       "    .dataframe thead th {\n",
       "        text-align: left;\n",
       "    }\n",
       "\n",
       "    .dataframe tbody tr th {\n",
       "        vertical-align: top;\n",
       "    }\n",
       "</style>\n",
       "<table border=\"1\" class=\"dataframe\">\n",
       "  <thead>\n",
       "    <tr style=\"text-align: right;\">\n",
       "      <th></th>\n",
       "      <th>Symbol</th>\n",
       "      <th>2015-01-02 00:00:00</th>\n",
       "      <th>2015-01-05 00:00:00</th>\n",
       "      <th>2015-01-06 00:00:00</th>\n",
       "      <th>2015-01-07 00:00:00</th>\n",
       "      <th>2015-01-08 00:00:00</th>\n",
       "      <th>2015-01-09 00:00:00</th>\n",
       "      <th>2015-01-12 00:00:00</th>\n",
       "      <th>2015-01-13 00:00:00</th>\n",
       "      <th>2015-01-14 00:00:00</th>\n",
       "      <th>...</th>\n",
       "      <th>2015-12-17 00:00:00</th>\n",
       "      <th>2015-12-18 00:00:00</th>\n",
       "      <th>2015-12-21 00:00:00</th>\n",
       "      <th>2015-12-22 00:00:00</th>\n",
       "      <th>2015-12-23 00:00:00</th>\n",
       "      <th>2015-12-24 00:00:00</th>\n",
       "      <th>2015-12-28 00:00:00</th>\n",
       "      <th>2015-12-29 00:00:00</th>\n",
       "      <th>2015-12-30 00:00:00</th>\n",
       "      <th>2015-12-31 00:00:00</th>\n",
       "    </tr>\n",
       "  </thead>\n",
       "  <tbody>\n",
       "    <tr>\n",
       "      <th>1</th>\n",
       "      <td>ED</td>\n",
       "      <td>0.00363084</td>\n",
       "      <td>-0.0080012</td>\n",
       "      <td>0.00501905</td>\n",
       "      <td>0.0119209</td>\n",
       "      <td>0.0032709</td>\n",
       "      <td>-0.00709961</td>\n",
       "      <td>-0.005648</td>\n",
       "      <td>-0.000598734</td>\n",
       "      <td>0.0171816</td>\n",
       "      <td>...</td>\n",
       "      <td>0.00077923</td>\n",
       "      <td>-0.0115571</td>\n",
       "      <td>-0.00188886</td>\n",
       "      <td>0.00378194</td>\n",
       "      <td>0.0137694</td>\n",
       "      <td>0.00185676</td>\n",
       "      <td>0.0102436</td>\n",
       "      <td>0.000768216</td>\n",
       "      <td>0.00168869</td>\n",
       "      <td>-0.0141127</td>\n",
       "    </tr>\n",
       "    <tr>\n",
       "      <th>2</th>\n",
       "      <td>DD</td>\n",
       "      <td>-0.0017606</td>\n",
       "      <td>-0.0242177</td>\n",
       "      <td>-0.00644702</td>\n",
       "      <td>0.0137389</td>\n",
       "      <td>0.0227803</td>\n",
       "      <td>-0.0268767</td>\n",
       "      <td>0.00310055</td>\n",
       "      <td>-0.0228457</td>\n",
       "      <td>0.00109785</td>\n",
       "      <td>...</td>\n",
       "      <td>-0.0189501</td>\n",
       "      <td>-0.0317654</td>\n",
       "      <td>0.000313494</td>\n",
       "      <td>0.00937058</td>\n",
       "      <td>0.0158461</td>\n",
       "      <td>0.00667076</td>\n",
       "      <td>0.00211065</td>\n",
       "      <td>0.0133473</td>\n",
       "      <td>-0.00251849</td>\n",
       "      <td>-0.00892856</td>\n",
       "    </tr>\n",
       "    <tr>\n",
       "      <th>3</th>\n",
       "      <td>CVX</td>\n",
       "      <td>0.00851031</td>\n",
       "      <td>-0.0259553</td>\n",
       "      <td>0.00148323</td>\n",
       "      <td>-0.0119908</td>\n",
       "      <td>0.0111732</td>\n",
       "      <td>-0.0175232</td>\n",
       "      <td>-0.0147949</td>\n",
       "      <td>-0.0254396</td>\n",
       "      <td>0.006783</td>\n",
       "      <td>...</td>\n",
       "      <td>-0.0316577</td>\n",
       "      <td>-0.00277593</td>\n",
       "      <td>-0.0128319</td>\n",
       "      <td>0.0129039</td>\n",
       "      <td>0.017462</td>\n",
       "      <td>-0.0202235</td>\n",
       "      <td>0.000553679</td>\n",
       "      <td>-0.00696483</td>\n",
       "      <td>-0.000111011</td>\n",
       "      <td>0.00648917</td>\n",
       "    </tr>\n",
       "    <tr>\n",
       "      <th>4</th>\n",
       "      <td>FL</td>\n",
       "      <td>-0.00691121</td>\n",
       "      <td>0.00449317</td>\n",
       "      <td>-0.0283777</td>\n",
       "      <td>0.0339691</td>\n",
       "      <td>0.000173912</td>\n",
       "      <td>-0.00881524</td>\n",
       "      <td>0.00531066</td>\n",
       "      <td>-0.0255736</td>\n",
       "      <td>-0.0087556</td>\n",
       "      <td>...</td>\n",
       "      <td>-0.0234935</td>\n",
       "      <td>0.00736559</td>\n",
       "      <td>-0.00358026</td>\n",
       "      <td>0.0285494</td>\n",
       "      <td>-0.0110701</td>\n",
       "      <td>-0.0230006</td>\n",
       "      <td>0.00865541</td>\n",
       "      <td>0.00167734</td>\n",
       "      <td>-0.0123194</td>\n",
       "      <td>0.0052509</td>\n",
       "    </tr>\n",
       "    <tr>\n",
       "      <th>5</th>\n",
       "      <td>CAT</td>\n",
       "      <td>0.00119865</td>\n",
       "      <td>-0.036746</td>\n",
       "      <td>-0.00928046</td>\n",
       "      <td>0.00503599</td>\n",
       "      <td>-0.00527025</td>\n",
       "      <td>-0.0125056</td>\n",
       "      <td>-0.00957488</td>\n",
       "      <td>-0.0149407</td>\n",
       "      <td>0.0139004</td>\n",
       "      <td>...</td>\n",
       "      <td>-0.0339386</td>\n",
       "      <td>0.00789478</td>\n",
       "      <td>-0.00533615</td>\n",
       "      <td>0.0326038</td>\n",
       "      <td>0.00431101</td>\n",
       "      <td>-0.0053047</td>\n",
       "      <td>-0.00781251</td>\n",
       "      <td>-0.000433383</td>\n",
       "      <td>0.000436902</td>\n",
       "      <td>-0.00715848</td>\n",
       "    </tr>\n",
       "  </tbody>\n",
       "</table>\n",
       "<p>5 rows × 253 columns</p>\n",
       "</div>"
      ],
      "text/plain": [
       "0 Symbol 2015-01-02 00:00:00 2015-01-05 00:00:00 2015-01-06 00:00:00  \\\n",
       "1     ED          0.00363084          -0.0080012          0.00501905   \n",
       "2     DD          -0.0017606          -0.0242177         -0.00644702   \n",
       "3    CVX          0.00851031          -0.0259553          0.00148323   \n",
       "4     FL         -0.00691121          0.00449317          -0.0283777   \n",
       "5    CAT          0.00119865           -0.036746         -0.00928046   \n",
       "\n",
       "0 2015-01-07 00:00:00 2015-01-08 00:00:00 2015-01-09 00:00:00  \\\n",
       "1           0.0119209           0.0032709         -0.00709961   \n",
       "2           0.0137389           0.0227803          -0.0268767   \n",
       "3          -0.0119908           0.0111732          -0.0175232   \n",
       "4           0.0339691         0.000173912         -0.00881524   \n",
       "5          0.00503599         -0.00527025          -0.0125056   \n",
       "\n",
       "0 2015-01-12 00:00:00 2015-01-13 00:00:00 2015-01-14 00:00:00  \\\n",
       "1           -0.005648        -0.000598734           0.0171816   \n",
       "2          0.00310055          -0.0228457          0.00109785   \n",
       "3          -0.0147949          -0.0254396            0.006783   \n",
       "4          0.00531066          -0.0255736          -0.0087556   \n",
       "5         -0.00957488          -0.0149407           0.0139004   \n",
       "\n",
       "0         ...         2015-12-17 00:00:00 2015-12-18 00:00:00  \\\n",
       "1         ...                  0.00077923          -0.0115571   \n",
       "2         ...                  -0.0189501          -0.0317654   \n",
       "3         ...                  -0.0316577         -0.00277593   \n",
       "4         ...                  -0.0234935          0.00736559   \n",
       "5         ...                  -0.0339386          0.00789478   \n",
       "\n",
       "0 2015-12-21 00:00:00 2015-12-22 00:00:00 2015-12-23 00:00:00  \\\n",
       "1         -0.00188886          0.00378194           0.0137694   \n",
       "2         0.000313494          0.00937058           0.0158461   \n",
       "3          -0.0128319           0.0129039            0.017462   \n",
       "4         -0.00358026           0.0285494          -0.0110701   \n",
       "5         -0.00533615           0.0326038          0.00431101   \n",
       "\n",
       "0 2015-12-24 00:00:00 2015-12-28 00:00:00 2015-12-29 00:00:00  \\\n",
       "1          0.00185676           0.0102436         0.000768216   \n",
       "2          0.00667076          0.00211065           0.0133473   \n",
       "3          -0.0202235         0.000553679         -0.00696483   \n",
       "4          -0.0230006          0.00865541          0.00167734   \n",
       "5          -0.0053047         -0.00781251        -0.000433383   \n",
       "\n",
       "0 2015-12-30 00:00:00 2015-12-31 00:00:00  \n",
       "1          0.00168869          -0.0141127  \n",
       "2         -0.00251849         -0.00892856  \n",
       "3        -0.000111011          0.00648917  \n",
       "4          -0.0123194           0.0052509  \n",
       "5         0.000436902         -0.00715848  \n",
       "\n",
       "[5 rows x 253 columns]"
      ]
     },
     "execution_count": 305,
     "metadata": {},
     "output_type": "execute_result"
    }
   ],
   "source": [
    "df.head()"
   ]
  },
  {
   "cell_type": "markdown",
   "metadata": {},
   "source": [
    "<h3> Merge S&P 500 data, filter symbols to 3 most common sectors </h3>"
   ]
  },
  {
   "cell_type": "code",
   "execution_count": 306,
   "metadata": {
    "scrolled": true
   },
   "outputs": [],
   "source": [
    "sp = pd.read_csv('sp500.csv')\n",
    "\n",
    "df = pd.merge(sp, df, on='Symbol')\n",
    "\n",
    "df['Sector'].value_counts()\n",
    "df = df[(df['Sector'] == 'Consumer Discretionary') |\n",
    "        (df['Sector'] == 'Information Technology') |\n",
    "        (df['Sector'] == 'Financials')]\n",
    "\n",
    "label = df['Symbol']\n",
    "sector = df['Sector']\n",
    "df = df.drop(['Symbol','Sector', 'Name'],1)\n",
    "\n",
    "df = df.dropna(axis=0, how='any')"
   ]
  },
  {
   "cell_type": "code",
   "execution_count": 307,
   "metadata": {},
   "outputs": [],
   "source": [
    "import sklearn\n",
    "from sklearn.cluster import FeatureAgglomeration\n",
    "\n",
    "#features = test.drop('DATE',1)\n",
    "agglo = FeatureAgglomeration(n_clusters=10).fit_transform(df)"
   ]
  },
  {
   "cell_type": "markdown",
   "metadata": {},
   "source": [
    "<h3> Consumer: Green, IT: Blue, Financials: Red </h3>"
   ]
  },
  {
   "cell_type": "code",
   "execution_count": 292,
   "metadata": {},
   "outputs": [],
   "source": [
    "color=[]\n",
    "for i in sector:\n",
    "    if i == 'Consumer Discretionary':\n",
    "        color.append('g')\n",
    "    if i == 'Information Technology':\n",
    "        color.append('b')\n",
    "    if i == 'Financials':\n",
    "        color.append('r')"
   ]
  },
  {
   "cell_type": "markdown",
   "metadata": {},
   "source": [
    "<h3> 2015 data </h3>"
   ]
  },
  {
   "cell_type": "code",
   "execution_count": 317,
   "metadata": {},
   "outputs": [
    {
     "data": {
      "text/plain": [
       "<matplotlib.figure.Figure at 0x25ce36293c8>"
      ]
     },
     "metadata": {},
     "output_type": "display_data"
    },
    {
     "data": {
      "image/png": "[encoded data removed]",
      "text/plain": [
       "<matplotlib.figure.Figure at 0x25ce3629f60>"
      ]
     },
     "metadata": {},
     "output_type": "display_data"
    }
   ],
   "source": [
    "plt.figure(figsize=(10,5))\n",
    "plt.ylim((0,.015))\n",
    "plt.xlim((-.01,.01))\n",
    "plt.scatter(agglo[:,0],agglo[:,1],c=color)\n",
    "plt.show()"
   ]
  },
  {
   "cell_type": "markdown",
   "metadata": {},
   "source": [
    "<h3> 2016 data </h3>"
   ]
  },
  {
   "cell_type": "code",
   "execution_count": 299,
   "metadata": {},
   "outputs": [
    {
     "data": {
      "image/png": "[encoded data removed]",
      "text/plain": [
       "<matplotlib.figure.Figure at 0x25ce3b63908>"
      ]
     },
     "metadata": {},
     "output_type": "display_data"
    }
   ],
   "source": [
    "plt.figure(figsize=(10,5))\n",
    "plt.ylim((-.007,.004))\n",
    "plt.xlim((.004,.02))\n",
    "plt.scatter(agglo[:,0],agglo[:,1],c=color)\n",
    "plt.show()"
   ]
  }
 ],
 "metadata": {
  "kernelspec": {
   "display_name": "Python 3",
   "language": "python",
   "name": "python3"
  },
  "language_info": {
   "codemirror_mode": {
    "name": "ipython",
    "version": 3
   },
   "file_extension": ".py",
   "mimetype": "text/x-python",
   "name": "python",
   "nbconvert_exporter": "python",
   "pygments_lexer": "ipython3",
   "version": "3.6.1"
  }
 },
 "nbformat": 4,
 "nbformat_minor": 2
}
